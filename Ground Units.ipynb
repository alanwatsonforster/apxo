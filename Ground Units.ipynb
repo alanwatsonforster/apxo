{
 "cells": [
  {
   "cell_type": "markdown",
   "id": "346a3c56-0d98-4652-a480-b034663c0827",
   "metadata": {},
   "source": [
    "# Set Up"
   ]
  },
  {
   "cell_type": "code",
   "execution_count": null,
   "id": "8f0b92d7-2234-4eee-8945-a4ecbf77bdb3",
   "metadata": {
    "editable": true,
    "slideshow": {
     "slide_type": ""
    },
    "tags": []
   },
   "outputs": [],
   "source": [
    "from apxo import *"
   ]
  },
  {
   "cell_type": "code",
   "execution_count": null,
   "id": "1c2e49db-a7d4-49c7-83c0-d6723255f6a7",
   "metadata": {},
   "outputs": [],
   "source": [
    "import apxo.log\n",
    "apxo.log.setwritefiles(False)\n",
    "apxo.log.setprint(True)\n",
    "import apxo.map\n",
    "apxo.map.setwritefiles(True)"
   ]
  },
  {
   "cell_type": "markdown",
   "id": "717a13e3-c71f-48c2-817a-bfb2b43384f3",
   "metadata": {},
   "source": [
    "# Example"
   ]
  },
  {
   "cell_type": "code",
   "execution_count": null,
   "id": "13a27867-30b8-475e-84b7-88caaeef877a",
   "metadata": {},
   "outputs": [],
   "source": [
    "startgamesetup(None, sheets=[[\"F\"]], variants=[\"use version 2.4 rules\",\"use house rules\"], style=\"temperate\", dotsperhex=300)\n",
    "\n",
    "x = 3\n",
    "y = 3\n",
    "for s in [\n",
    "    \"infantry\", \"armor\", \"artillery\", \"reconnaissance\", \"antiarmor\", \"airdefense\", \"supply\", \"transportation\", \"ammunition\", \"fuel\", \"ordnance\",\n",
    "    \"headquarters\", \"missile\", \"gun\", \"multiplerocket\", \"radar\", \"motorized\", \"wheeled\", \"limitedwheeled\",\n",
    "    \"locomotive\", \"railcar\", \"truck\", \"barge\", \"junk\", \"building\", \"tower\", \"hangar\", \"fixedwing\", \"rotarywing\"\n",
    "    ]:\n",
    "    hexcode = \"F-%02d%02d\" % (x, y)\n",
    "    setupgroundunit(s, hexcode, symbols=s, color=\"lightgreen\")\n",
    "    y += 1\n",
    "    if y == 12:\n",
    "        x += 1\n",
    "        y = 3\n",
    "\n",
    "x = 9\n",
    "y = 3\n",
    "for c in [ \"white\", \"natoblue\", \"natored\", \"natogreen\", \"natoyellow\", \"green\", \"lightgreen\", \"tan\", \"darktan\", \"sand\" ]:\n",
    "    hexcode = \"F-%02d%02d\" % (x, y)\n",
    "    setupgroundunit(c, hexcode, \"infantry\", color=c)\n",
    "    y += 1\n",
    "    if y == 8:\n",
    "        x += 1\n",
    "        y = 3\n",
    "\n",
    "x = 9\n",
    "y = 9\n",
    "hexcode = \"F-%02d%02d\" % (x, y)\n",
    "setupgroundunit(\"1/1\", hexcode, \"infantry\", stack=\"1/1\", color=\"lightgreen\")\n",
    "y += 1\n",
    "hexcode = \"F-%02d%02d\" % (x, y)\n",
    "setupgroundunit(\"1/2\", hexcode, \"infantry\", stack=\"1/2\", color=\"lightgreen\")\n",
    "setupgroundunit(\"2/2\", hexcode, \"infantry\", stack=\"2/2\", color=\"lightgreen\")\n",
    "x += 1\n",
    "y -= 1\n",
    "hexcode = \"F-%02d%02d\" % (x, y)\n",
    "setupgroundunit(\"1/3\", hexcode, \"infantry\", stack=\"1/3\", color=\"lightgreen\")\n",
    "setupgroundunit(\"2/3\", hexcode, \"infantry\", stack=\"2/3\", color=\"lightgreen\")\n",
    "setupgroundunit(\"3/3\", hexcode, \"infantry\", stack=\"3/3\", color=\"lightgreen\")\n",
    "y += 1\n",
    "hexcode = \"F-%02d%02d\" % (x, y)\n",
    "setupgroundunit(\"1/4\", hexcode, \"infantry\", stack=\"1/4\", color=\"lightgreen\")\n",
    "setupgroundunit(\"2/4\", hexcode, \"infantry\", stack=\"2/4\", color=\"lightgreen\")\n",
    "setupgroundunit(\"3/4\", hexcode, \"infantry\", stack=\"3/4\", color=\"lightgreen\")\n",
    "setupgroundunit(\"4/4\", hexcode, \"infantry\", stack=\"4/4\", color=\"lightgreen\")\n",
    "\n",
    "\n",
    "x = 12\n",
    "y = 3\n",
    "for s in [ \n",
    "    \"infantry\",\n",
    "    \"infantryheadquarters\",\n",
    "    \"mediumarmor\",\n",
    "    \"truck\",\n",
    "    \"EWR-A\",\n",
    "    \"FCR-A\",\n",
    "    \"airdefenseheadquarters\",\n",
    "    \"SA-2B\", \"SA-2C\", \"SA-2E\", \"SA-2F\",\n",
    "    \"KS-12\", \"S-60\", \"M-38\", \"ZU-23\", \"ZPU-4\", \"ZPU-1\",\n",
    "    ]:\n",
    "    hexcode = \"F-%02d%02d\" % (x, y)\n",
    "    setupgroundunit(s + \" \", hexcode, s, color=\"lightgreen\")\n",
    "    y += 1\n",
    "    if y == 12:\n",
    "        x += 1\n",
    "        y = 3\n",
    "\n",
    "endgamesetup()\n",
    "drawmap(zoom=False, xmin=2, xmax=16, ymin=13, ymax=23.5)\n",
    "#drawmap(zoom=False, xmin=2, xmax=16, ymin=13, ymax=23.5, compactstacks=False)\n"
   ]
  },
  {
   "cell_type": "code",
   "execution_count": null,
   "id": "5b269100-d75a-425a-8568-2638b9606744",
   "metadata": {},
   "outputs": [],
   "source": []
  },
  {
   "cell_type": "code",
   "execution_count": null,
   "id": "f51d47ac-3408-446f-ab9f-13af2f458a1b",
   "metadata": {},
   "outputs": [],
   "source": []
  }
 ],
 "metadata": {
  "kernelspec": {
   "display_name": "Python 3 (ipykernel)",
   "language": "python",
   "name": "python3"
  },
  "language_info": {
   "codemirror_mode": {
    "name": "ipython",
    "version": 3
   },
   "file_extension": ".py",
   "mimetype": "text/x-python",
   "name": "python",
   "nbconvert_exporter": "python",
   "pygments_lexer": "ipython3",
   "version": "3.13.1"
  }
 },
 "nbformat": 4,
 "nbformat_minor": 5
}
