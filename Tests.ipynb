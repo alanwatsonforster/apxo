{
 "cells": [
  {
   "cell_type": "code",
   "execution_count": null,
   "id": "30b58ed6-51b8-4185-9e13-51912292d735",
   "metadata": {
    "editable": true,
    "slideshow": {
     "slide_type": ""
    },
    "tags": []
   },
   "outputs": [],
   "source": [
    "from apxo import *"
   ]
  },
  {
   "cell_type": "code",
   "execution_count": null,
   "id": "6b454b73-06b2-4f40-99a9-b9b2d9753d30",
   "metadata": {},
   "outputs": [],
   "source": [
    "import apxo.log as aplog\n",
    "aplog.setwritefiles(False)\n",
    "import apxo.map as apmap\n",
    "apmap.setwritefiles(False)"
   ]
  },
  {
   "cell_type": "code",
   "execution_count": null,
   "id": "d13ed5e8-de9f-4f34-86c0-3afda6fa1684",
   "metadata": {},
   "outputs": [],
   "source": [
    "import apxo.tests.a0\n",
    "import apxo.tests.a1\n",
    "import apxo.tests.a2\n",
    "import apxo.tests.a3\n",
    "import apxo.tests.a4\n",
    "import apxo.tests.a5\n",
    "import apxo.tests.c0\n",
    "import apxo.tests.c1\n",
    "import apxo.tests.c2\n",
    "import apxo.tests.c3\n",
    "import apxo.tests.d0\n",
    "import apxo.tests.d1\n",
    "import apxo.tests.d2\n",
    "import apxo.tests.d3\n",
    "import apxo.tests.d4\n",
    "import apxo.tests.d5\n",
    "import apxo.tests.e0\n",
    "import apxo.tests.e1\n",
    "import apxo.tests.e2\n",
    "import apxo.tests.e3\n",
    "import apxo.tests.e4\n",
    "import apxo.tests.e5\n",
    "import apxo.tests.e7\n",
    "import apxo.tests.e6\n",
    "import apxo.tests.f0\n",
    "import apxo.tests.f1\n",
    "import apxo.tests.f2\n",
    "import apxo.tests.g0\n",
    "import apxo.tests.g1\n",
    "import apxo.tests.g2\n",
    "import apxo.tests.g3\n",
    "import apxo.tests.g4\n",
    "import apxo.tests.g5\n",
    "import apxo.tests.g6\n",
    "import apxo.tests.h0\n",
    "import apxo.tests.i0\n",
    "import apxo.tests.i1\n",
    "import apxo.tests.j0\n",
    "import apxo.tests.j1\n",
    "import apxo.tests.j2\n",
    "import apxo.tests.j3\n",
    "import apxo.tests.j4\n",
    "import apxo.tests.j5\n",
    "import apxo.tests.j6\n",
    "import apxo.tests.k0\n",
    "import apxo.tests.k1\n",
    "import apxo.tests.l0\n",
    "import apxo.tests.m0\n",
    "import apxo.tests.n0\n",
    "import apxo.tests.n1\n",
    "import apxo.tests.n2\n",
    "import apxo.tests.n3\n",
    "import apxo.tests.o0\n",
    "import apxo.tests.o1\n",
    "import apxo.tests.o2\n",
    "import apxo.tests.o3\n",
    "import apxo.tests.o4\n",
    "\n",
    "print(\"finished running all tests.\")"
   ]
  }
 ],
 "metadata": {
  "kernelspec": {
   "display_name": "air-power",
   "language": "python",
   "name": "python3"
  },
  "language_info": {
   "codemirror_mode": {
    "name": "ipython",
    "version": 3
   },
   "file_extension": ".py",
   "mimetype": "text/x-python",
   "name": "python",
   "nbconvert_exporter": "python",
   "pygments_lexer": "ipython3",
   "version": "3.13.2"
  }
 },
 "nbformat": 4,
 "nbformat_minor": 5
}
