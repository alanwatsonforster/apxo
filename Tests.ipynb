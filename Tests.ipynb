{
 "cells": [
  {
   "cell_type": "code",
   "execution_count": null,
   "id": "30b58ed6-51b8-4185-9e13-51912292d735",
   "metadata": {
    "editable": true,
    "slideshow": {
     "slide_type": ""
    },
    "tags": []
   },
   "outputs": [],
   "source": [
    "import sys\n",
    "sys.path.append('/Users/alan/GitHub/air-power/glass/src/')\n",
    "from glass import *"
   ]
  },
  {
   "cell_type": "code",
   "execution_count": null,
   "id": "6b454b73-06b2-4f40-99a9-b9b2d9753d30",
   "metadata": {},
   "outputs": [],
   "source": [
    "import glass.log\n",
    "glass.log.setwritefiles(False)\n",
    "import glass.map\n",
    "glass.map.setwritefiles(False)"
   ]
  },
  {
   "cell_type": "code",
   "execution_count": null,
   "id": "d13ed5e8-de9f-4f34-86c0-3afda6fa1684",
   "metadata": {},
   "outputs": [],
   "source": [
    "import glass.tests.a0\n",
    "import glass.tests.a1\n",
    "import glass.tests.a2\n",
    "import glass.tests.a3\n",
    "import glass.tests.a4\n",
    "import glass.tests.a5\n",
    "import glass.tests.c0\n",
    "import glass.tests.c1\n",
    "import glass.tests.c2\n",
    "import glass.tests.c3\n",
    "import glass.tests.d0\n",
    "import glass.tests.d1\n",
    "import glass.tests.d2\n",
    "import glass.tests.d3\n",
    "import glass.tests.d4\n",
    "import glass.tests.d5\n",
    "import glass.tests.e0\n",
    "import glass.tests.e1\n",
    "import glass.tests.e2\n",
    "import glass.tests.e3\n",
    "import glass.tests.e4\n",
    "import glass.tests.e5\n",
    "import glass.tests.e7\n",
    "import glass.tests.e6\n",
    "import glass.tests.f0\n",
    "import glass.tests.f1\n",
    "import glass.tests.f2\n",
    "import glass.tests.g0\n",
    "import glass.tests.g1\n",
    "import glass.tests.g2\n",
    "import glass.tests.g3\n",
    "import glass.tests.g4\n",
    "import glass.tests.g5\n",
    "import glass.tests.g6\n",
    "import glass.tests.h0\n",
    "import glass.tests.i0\n",
    "import glass.tests.i1\n",
    "import glass.tests.j0\n",
    "import glass.tests.j1\n",
    "import glass.tests.j2\n",
    "import glass.tests.j3\n",
    "import glass.tests.j4\n",
    "import glass.tests.j5\n",
    "import glass.tests.j6\n",
    "import glass.tests.k0\n",
    "import glass.tests.k1\n",
    "import glass.tests.l0\n",
    "import glass.tests.m0\n",
    "import glass.tests.n0\n",
    "import glass.tests.n1\n",
    "import glass.tests.n2\n",
    "import glass.tests.n3\n",
    "import glass.tests.o0\n",
    "import glass.tests.o1\n",
    "import glass.tests.o2\n",
    "import glass.tests.o3\n",
    "import glass.tests.o4\n",
    "\n",
    "print(\"finished running all tests.\")"
   ]
  }
 ],
 "metadata": {
  "kernelspec": {
   "display_name": "air-power",
   "language": "python",
   "name": "python3"
  },
  "language_info": {
   "codemirror_mode": {
    "name": "ipython",
    "version": 3
   },
   "file_extension": ".py",
   "mimetype": "text/x-python",
   "name": "python",
   "nbconvert_exporter": "python",
   "pygments_lexer": "ipython3",
   "version": "3.13.2"
  }
 },
 "nbformat": 4,
 "nbformat_minor": 5
}
